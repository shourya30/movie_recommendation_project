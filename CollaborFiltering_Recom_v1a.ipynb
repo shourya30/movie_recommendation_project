{
 "cells": [
  {
   "cell_type": "markdown",
   "id": "349c310a",
   "metadata": {},
   "source": [
    "# Collaborative Filtering Recommendation\n",
    "Collaborative filtering is considered an advanced recommender system because it relies on user interaction data to make recommendations. It can be based on user-user collaborative filtering or item-item collaborative filtering. In the context of the MovieLens dataset, user-user collaborative filtering would recommend movies to a user based on the preferences of users with similar viewing habits. Item-item collaborative filtering would recommend movies that are similar to ones the user has already rated positively."
   ]
  },
  {
   "cell_type": "code",
   "execution_count": 205,
   "id": "6505f1e4",
   "metadata": {},
   "outputs": [
    {
     "data": {
      "text/html": [
       "\n",
       "<style>\n",
       "    div#notebook-container    { width: 95%; }\n",
       "    div#menubar-container     { width: 65%; }\n",
       "    div#maintoolbar-container { width: 99%; }\n",
       "</style>\n"
      ],
      "text/plain": [
       "<IPython.core.display.HTML object>"
      ]
     },
     "metadata": {},
     "output_type": "display_data"
    }
   ],
   "source": [
    "import pandas as pd\n",
    "import numpy as np\n",
    "from ast import literal_eval\n",
    "from sklearn.feature_extraction.text import TfidfVectorizer\n",
    "from sklearn.metrics.pairwise import linear_kernel\n",
    "from sklearn.model_selection import train_test_split\n",
    "from sklearn.metrics import mean_squared_error\n",
    "from surprise import Reader, Dataset, KNNBasic\n",
    "from surprise.model_selection import cross_validate\n",
    "from surprise import SVD\n",
    "from sklearn.metrics.pairwise import cosine_similarity\n",
    "\n",
    "from IPython.display import display, clear_output, HTML\n",
    "display(HTML(data=\"\"\"\n",
    "<style>\n",
    "    div#notebook-container    { width: 95%; }\n",
    "    div#menubar-container     { width: 65%; }\n",
    "    div#maintoolbar-container { width: 99%; }\n",
    "</style>\n",
    "\"\"\"))"
   ]
  },
  {
   "cell_type": "code",
   "execution_count": 206,
   "id": "e3d11436",
   "metadata": {},
   "outputs": [],
   "source": [
    "class CF_recomsys:\n",
    "    \n",
    "    def __init__(self,user_path, movies_path, ratings_path):\n",
    "        \n",
    "        #Load the u.user file into a dataframe\n",
    "        u_cols = ['user_id', 'age', 'sex', 'occupation', 'zip_code']\n",
    "        self.users = pd.read_csv(user_path, sep='|', names=u_cols, encoding='latin-1')\n",
    "        \n",
    "        #Load the u.item file into a dataframe\n",
    "        i_cols = ['movie_id', 'title' ,'release date','video release date', 'IMDb URL', 'unknown', 'Action', 'Adventure',\n",
    "         'Animation', 'Children\\'s', 'Comedy', 'Crime', 'Documentary', 'Drama', 'Fantasy',\n",
    "         'Film-Noir', 'Horror', 'Musical', 'Mystery', 'Romance', 'Sci-Fi', 'Thriller', 'War', 'Western']\n",
    "        self.movies = pd.read_csv(movies_path, sep='|', names=i_cols, encoding='latin-1')\n",
    "        \n",
    "        #Remove all information except Movie ID and title\n",
    "        self.movies = self.movies[['movie_id', 'title']]\n",
    "        \n",
    "        #Load the u.data file into a dataframe\n",
    "        r_cols = ['user_id', 'movie_id', 'rating', 'timestamp']\n",
    "        self.ratings = pd.read_csv(ratings_path, sep='\\t', names=r_cols, encoding='latin-1')\n",
    "        \n",
    "        #Drop the timestamp column\n",
    "        self.ratings = self.ratings.drop('timestamp', axis=1)\n",
    "\n",
    "    def prep_train_data(self):\n",
    "        \n",
    "        \"\"\"Function to get test, train, data using train_test_split function\"\"\"\n",
    "        \n",
    "        #Assign X as the original ratings dataframe and y as the user_id column of ratings.\n",
    "        self.X = self.ratings.copy()\n",
    "        self.y = self.ratings['user_id']\n",
    "\n",
    "        #Split into training and test datasets, stratified along user_id\n",
    "        self.X_train, self.X_test, self.y_train, self.y_test = train_test_split(self.X, self.y, test_size = 0.25, stratify=self.y, random_state=42)\n",
    "    \n",
    "    \n",
    "    def build_rmatrix(self):\n",
    "        \n",
    "        \"\"\"Function to get r_matrix\"\"\"\n",
    "        \n",
    "        #Build the ratings matrix using pivot_table function\n",
    "        self.r_matrix = self.X_train.pivot_table(values='rating', index='user_id', columns='movie_id')\n",
    "        \n",
    "    \n",
    "    def cosine_sim_cal(self):\n",
    "        \n",
    "        \"\"\"Function to caculate consine similarity\"\"\"\n",
    "        \n",
    "        self.r_matrix_fillnan =  self.r_matrix.copy().fillna(0)\n",
    "        \n",
    "        #Compute the cosine similarity matrix using the dummy ratings matrix\n",
    "        cosine_sim = cosine_similarity(self.r_matrix_fillnan, self.r_matrix_fillnan)\n",
    "        \n",
    "        #Convert into pandas dataframe \n",
    "        self.cosine_sim = pd.DataFrame(cosine_sim, index=self.r_matrix.index, columns=self.r_matrix.index)\n",
    "\n",
    "    def get_demographics(self):\n",
    "        \n",
    "        #Merge the original users dataframe with the training set \n",
    "        \n",
    "        self.merged_df = pd.merge(self.X_train, self.users)\n",
    "        \n",
    "        #Compute the mean rating of every movie by gender\n",
    "        self.gender_mean = self.merged_df[['movie_id', 'sex', 'rating']].groupby(['movie_id', 'sex'])['rating'].mean()\n",
    "        \n",
    "        #Set the index of the users dataframe to the user_id\n",
    "        self.users_demmograph = self.users.set_index('user_id')\n",
    "    \n",
    "        #Compute the mean rating by gender and occupation\n",
    "        self.gen_occ_mean = self.merged_df[['sex', 'rating', 'movie_id', 'occupation']].pivot_table(\n",
    "            values='rating', index='movie_id', columns=['occupation', 'sex'], aggfunc='mean')\n",
    "\n",
    "        \n",
    "    #########################  Pediction test #######################  \n",
    "    def pred_ratings(self, model):\n",
    "        \n",
    "        \"\"\"Function to clean calculate the prediction socre with rmse\n",
    "        \n",
    "        Args:\n",
    "            model(object): the model to predict rating of the user \n",
    "            \n",
    "        Return:\n",
    "            rmse(float): the score, which indicate the accuracy of model\n",
    "            \n",
    "        \"\"\"\n",
    "        \n",
    "        #Construct a list of user-movie tuples from the testing dataset\n",
    "        id_pairs = zip(self.X_test['user_id'], self.X_test['movie_id'])\n",
    "\n",
    "        #Predict the rating for every user-movie tuple\n",
    "        y_pred = np.array([model(user, movie) for (user, movie) in id_pairs])\n",
    "\n",
    "        #Extract the actual ratings given by the users in the test data\n",
    "        y_true = np.array(self.X_test['rating'])\n",
    "\n",
    "        #Return the final RMSE score\n",
    "        rmse = np.sqrt(mean_squared_error(y_true, y_pred))\n",
    "        \n",
    "        return rmse\n",
    "    \n",
    "    #######################    Models #####################################     \n",
    "    def baseline(self, user_id, movie_id):\n",
    "        \"\"\"Function to define the baseline model to always return rating_baseline = 3\"\"\"\n",
    "        \n",
    "        rating_baseline = 3\n",
    "        \n",
    "        return rating_baseline\n",
    "    \n",
    "    \n",
    "    def cf_user_mean(self, user_id, movie_id):\n",
    "        \n",
    "        \"\"\"Function to define model with User Based Collaborative Filter using Mean Ratings\"\"\"\n",
    "        \n",
    "        #Check if movie_id exists in r_matrix\n",
    "        if movie_id in self.r_matrix:\n",
    "            #Compute the mean of all the ratings given to the movie\n",
    "            mean_rating = self.r_matrix[movie_id].mean()\n",
    "\n",
    "        else:\n",
    "            #Default to a rating of 3.0 in the absence of any information\n",
    "            mean_rating = 3.0\n",
    "\n",
    "        return mean_rating\n",
    "    \n",
    "    \n",
    "    def cf_user_wmean(self, user_id, movie_id):\n",
    "        \n",
    "        \"\"\"Function to define model with User Based Collaborative Filter using Weighted Mean Ratings\"\"\"\n",
    "        \n",
    "        #Check if movie_id exists in r_matrix\n",
    "        if movie_id in self.r_matrix:\n",
    "\n",
    "            #Get the similarity scores for the user in question with every other user\n",
    "            sim_scores = self.cosine_sim[user_id]\n",
    "\n",
    "            #Get the user ratings for the movie in question\n",
    "            m_ratings = self.r_matrix[movie_id]\n",
    "\n",
    "            #Extract the indices containing NaN in the m_ratings series\n",
    "            idx = m_ratings[m_ratings.isnull()].index\n",
    "\n",
    "            #Drop the NaN values from the m_ratings Series\n",
    "            m_ratings = m_ratings.drop(idx)\n",
    "\n",
    "            #Drop the corresponding cosine scores from the sim_scores series\n",
    "            sim_scores = sim_scores.drop(idx)\n",
    "\n",
    "            if sim_scores.sum() <= 0:\n",
    "                wmean_rating = 3.0\n",
    "\n",
    "            else:\n",
    "                #Compute the final weighted mean\n",
    "                wmean_rating = np.dot(sim_scores, m_ratings)/ sim_scores.sum()\n",
    "\n",
    "        else:\n",
    "            #Default to a rating of 3.0 in the absence of any information\n",
    "            wmean_rating = 3.0\n",
    "\n",
    "        return wmean_rating\n",
    "        \n",
    "    def cf_gender(self, user_id, movie_id):\n",
    "        \n",
    "        \"Gender Based Collaborative Filter using Mean Ratings\"\n",
    "        \n",
    "        #Check if movie_id exists in r_matrix (or training set)\n",
    "        if movie_id in self.r_matrix:\n",
    "            #Identify the gender of the user\n",
    "            gender = self.users_demmograph.loc[user_id]['sex']\n",
    "\n",
    "            #Check if the gender has rated the movie\n",
    "            if gender in self.gender_mean[movie_id]:\n",
    "\n",
    "                #Compute the mean rating given by that gender to the movie\n",
    "                gender_rating = self.gender_mean[movie_id][gender]\n",
    "\n",
    "            else:\n",
    "                gender_rating = 3.0\n",
    "\n",
    "        else:\n",
    "            #Default to a rating of 3.0 in the absence of any information\n",
    "            gender_rating = 3.0\n",
    "\n",
    "        return gender_rating\n",
    "    \n",
    "\n",
    "    def cf_gen_occ(self, user_id, movie_id):\n",
    "        \n",
    "        \"Gender and Occupation Based Collaborative Filter using Mean Ratings\"\n",
    "        \n",
    "        #Check if movie_id exists in gen_occ_mean\n",
    "        if movie_id in self.gen_occ_mean.index:\n",
    "\n",
    "            #Identify the user\n",
    "            user = self.users_demmograph.loc[user_id]\n",
    "\n",
    "            #Identify the gender and occupation\n",
    "            gender = user['sex']\n",
    "            occ = user['occupation']\n",
    "\n",
    "            #Check if the occupation has rated the movie\n",
    "            if occ in self.gen_occ_mean.loc[movie_id]:\n",
    "\n",
    "                #Check if the gender has rated the movie\n",
    "                if gender in self.gen_occ_mean.loc[movie_id][occ]:\n",
    "\n",
    "                    #Extract the required rating\n",
    "                    rating = self.gen_occ_mean.loc[movie_id][occ][gender]\n",
    "\n",
    "                    #Default to 3.0 if the rating is null\n",
    "                    if np.isnan(rating):\n",
    "                        rating = 3.0\n",
    "\n",
    "                    return rating\n",
    "\n",
    "        else:\n",
    "            #Return the default rating    \n",
    "            return 3.0\n",
    "    \n",
    "    def knn_model(self):\n",
    "        \n",
    "        #Define a Reader object\n",
    "        #The Reader object helps in parsing the file or dataframe containing ratings\n",
    "        reader = Reader()\n",
    "\n",
    "        #Create the dataset to be used for building the filter\n",
    "        data = Dataset.load_from_df(self.ratings, reader)\n",
    "\n",
    "        #Define the algorithm object; in this case kNN\n",
    "        knn = KNNBasic()\n",
    "\n",
    "        #Evaluate the performance in terms of RMSE\n",
    "        return cross_validate(knn, data, measures=['RMSE'])\n",
    "\n",
    "    def svd_model(self):\n",
    "        \n",
    "        #Define a Reader object\n",
    "        #The Reader object helps in parsing the file or dataframe containing ratings\n",
    "        reader = Reader()\n",
    "\n",
    "        #Create the dataset to be used for building the filter\n",
    "        data = Dataset.load_from_df(self.ratings, reader)\n",
    "        \n",
    "        #Define the SVD algorithm object\n",
    "        svd = SVD()\n",
    "\n",
    "        #Evaluate the performance in terms of RMSE\n",
    "        return cross_validate(svd, data, measures=['RMSE'])\n",
    "\n",
    "    def main(self, model):\n",
    "        \n",
    "        \"\"\"Function to predict ratings ralvent r_matrix\"\"\"\n",
    "        \n",
    "        self.prep_train_data()\n",
    "        self.build_rmatrix()\n",
    "        self.cosine_sim_cal()\n",
    "        self.get_demographics()\n",
    "        \n",
    "        rmse = self.pred_ratings(model)\n",
    "        print(\"RMSE:\",rmse)"
   ]
  },
  {
   "cell_type": "code",
   "execution_count": 207,
   "id": "1219d11d",
   "metadata": {},
   "outputs": [],
   "source": [
    "user_path = r'C:\\Users\\MMIL\\Panithan\\Git_projects\\MovieLensDataset\\ml-100k\\u.user'\n",
    "movies_path = r'C:\\Users\\MMIL\\Panithan\\Git_projects\\MovieLensDataset\\ml-100k\\u.item'\n",
    "ratings_path = r'C:\\Users\\MMIL\\Panithan\\Git_projects\\MovieLensDataset\\ml-100k\\u.data'\n",
    "A1=CF_recomsys(user_path, movies_path, ratings_path)"
   ]
  },
  {
   "cell_type": "code",
   "execution_count": 208,
   "id": "f0ca3f9e",
   "metadata": {},
   "outputs": [
    {
     "name": "stdout",
     "output_type": "stream",
     "text": [
      "RMSE: 1.2488234462885457\n"
     ]
    }
   ],
   "source": [
    "A1.main(A1.baseline)"
   ]
  },
  {
   "cell_type": "code",
   "execution_count": 209,
   "id": "097039da",
   "metadata": {},
   "outputs": [
    {
     "name": "stdout",
     "output_type": "stream",
     "text": [
      "RMSE: 1.0300824802393536\n"
     ]
    }
   ],
   "source": [
    "A1.main(A1.cf_user_mean)"
   ]
  },
  {
   "cell_type": "code",
   "execution_count": 210,
   "id": "7159c8c2",
   "metadata": {},
   "outputs": [
    {
     "name": "stdout",
     "output_type": "stream",
     "text": [
      "RMSE: 1.0237210431087944\n"
     ]
    }
   ],
   "source": [
    "A1.main(A1.cf_user_wmean)"
   ]
  },
  {
   "cell_type": "code",
   "execution_count": 211,
   "id": "7614a451",
   "metadata": {},
   "outputs": [
    {
     "name": "stdout",
     "output_type": "stream",
     "text": [
      "RMSE: 1.0392906999935203\n"
     ]
    }
   ],
   "source": [
    "A1.main(A1.cf_gender)"
   ]
  },
  {
   "cell_type": "code",
   "execution_count": 212,
   "id": "a56b44ca",
   "metadata": {},
   "outputs": [
    {
     "name": "stdout",
     "output_type": "stream",
     "text": [
      "RMSE: 1.1419651376788005\n"
     ]
    }
   ],
   "source": [
    "A1.main(A1.cf_gen_occ)"
   ]
  },
  {
   "cell_type": "code",
   "execution_count": 213,
   "id": "27d1a63b",
   "metadata": {},
   "outputs": [
    {
     "name": "stdout",
     "output_type": "stream",
     "text": [
      "Computing the msd similarity matrix...\n",
      "Done computing similarity matrix.\n",
      "Computing the msd similarity matrix...\n",
      "Done computing similarity matrix.\n",
      "Computing the msd similarity matrix...\n",
      "Done computing similarity matrix.\n",
      "Computing the msd similarity matrix...\n",
      "Done computing similarity matrix.\n",
      "Computing the msd similarity matrix...\n",
      "Done computing similarity matrix.\n"
     ]
    },
    {
     "data": {
      "text/plain": [
       "{'test_rmse': array([0.98229459, 0.97325008, 0.98289412, 0.97735831, 0.97681482]),\n",
       " 'fit_time': (0.22104978561401367,\n",
       "  0.23005223274230957,\n",
       "  0.23205208778381348,\n",
       "  0.23005223274230957,\n",
       "  0.23005175590515137),\n",
       " 'test_time': (1.5105390548706055,\n",
       "  1.5323472023010254,\n",
       "  1.6313700675964355,\n",
       "  1.5723559856414795,\n",
       "  1.4923381805419922)}"
      ]
     },
     "execution_count": 213,
     "metadata": {},
     "output_type": "execute_result"
    }
   ],
   "source": [
    "A1.knn_model()"
   ]
  },
  {
   "cell_type": "code",
   "execution_count": 214,
   "id": "0beead1c",
   "metadata": {},
   "outputs": [
    {
     "data": {
      "text/plain": [
       "{'test_rmse': array([0.94105508, 0.93650033, 0.9268558 , 0.93780555, 0.93030478]),\n",
       " 'fit_time': (2.596588134765625,\n",
       "  2.7026121616363525,\n",
       "  2.582584857940674,\n",
       "  2.5405755043029785,\n",
       "  2.5385751724243164),\n",
       " 'test_time': (0.07001566886901855,\n",
       "  0.07001638412475586,\n",
       "  0.07001590728759766,\n",
       "  0.17003822326660156,\n",
       "  0.07001566886901855)}"
      ]
     },
     "execution_count": 214,
     "metadata": {},
     "output_type": "execute_result"
    }
   ],
   "source": [
    "A1.svd_model()"
   ]
  }
 ],
 "metadata": {
  "kernelspec": {
   "display_name": "Python 3 (ipykernel)",
   "language": "python",
   "name": "python3"
  },
  "language_info": {
   "codemirror_mode": {
    "name": "ipython",
    "version": 3
   },
   "file_extension": ".py",
   "mimetype": "text/x-python",
   "name": "python",
   "nbconvert_exporter": "python",
   "pygments_lexer": "ipython3",
   "version": "3.9.12"
  }
 },
 "nbformat": 4,
 "nbformat_minor": 5
}
